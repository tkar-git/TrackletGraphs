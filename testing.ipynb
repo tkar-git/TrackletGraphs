{
 "cells": [
  {
   "cell_type": "code",
   "execution_count": 32,
   "metadata": {},
   "outputs": [
    {
     "name": "stdout",
     "output_type": "stream",
     "text": [
      "Num nodes: torch.Size([8560])\n",
      "Num edges: torch.Size([2, 6582426])\n",
      "Total number of layers: 10\n"
     ]
    }
   ],
   "source": [
    "import numpy as np\n",
    "import torch\n",
    "import pandas as pd\n",
    "from itertools import product\n",
    "from torch_geometric.data import Data\n",
    "\n",
    "evt = \"/mnt/data0/Trackml_dataset_100_events/Example_3/trackml_100_events/event000021000-\"\n",
    "\n",
    "def semi_fully_connected_graph(event_path):\n",
    "    hits = pd.read_csv(event_path + 'hits.csv')\n",
    "    hits = hits[hits['volume_id'].isin([8,13,17])] #only consider barrel detector\n",
    "    hits = hits[hits['y'] > 0] #only consider top half of detector\n",
    "    hits = hits[hits['z'] > 0] #only consider front half of detector\n",
    "    hits = hits[hits['x'] > 0] #only consider right half of detector\n",
    "\n",
    "    hits['layer_id'] = hits['volume_id']*10 + hits['layer_id']\n",
    "    hits = hits.sort_values(by='layer_id')\n",
    "\n",
    "    #Create graph object with node feature matrix\n",
    "    graph = Data()\n",
    "    \n",
    "    graph.x = torch.tensor(np.arange(0,hits['hit_id'].to_numpy().shape[0],1))\n",
    "    graph.hit_id = torch.tensor(hits['hit_id'].to_numpy())\n",
    "\n",
    "    graph.pos = torch.empty(hits['x'].to_numpy().shape[0],3)\n",
    "    graph.pos[:,0] = torch.tensor(hits['x'].to_numpy())\n",
    "    graph.pos[:,1] = torch.tensor(hits['y'].to_numpy())\n",
    "    graph.pos[:,2] = torch.tensor(hits['z'].to_numpy())\n",
    "    \n",
    "    edge_index = np.empty((2,1))\n",
    "\n",
    "    all_layers = hits['layer_id'].unique()\n",
    "\n",
    "    for i,layer in enumerate(all_layers):\n",
    "        #Mask hits df to only include hits from current layer and next layer\n",
    "        current_layer_hits = hits[hits['layer_id'] == layer].to_numpy()\n",
    "        next_layer_hits = hits[hits['layer_id'] == all_layers[i+1]].to_numpy()\n",
    "        \n",
    "        #Get indices of hits in current and next layer\n",
    "        current_layer_indices = np.nonzero(np.isin(hits['hit_id'].to_numpy(),current_layer_hits[:,0]))[0]\n",
    "        next_layer_indices = np.nonzero(np.isin(hits['hit_id'].to_numpy(),next_layer_hits[:,0]))[0]\n",
    "\n",
    "        #Create edges between hits in current and next layer\n",
    "        edge_index = np.concatenate((edge_index,np.array(list(product(current_layer_indices,next_layer_indices))).T), axis=1)\n",
    "    \n",
    "        #Break if no next next layer exists\n",
    "        if all_layers[i] == all_layers[-2]:\n",
    "            break\n",
    "        \"\"\"\n",
    "        #Mask for next next layer, get indices and create edges between current and next next layer\n",
    "        next_next_layer_hits = hits[hits['layer_id'] == all_layers[i+2]]\n",
    "        next_next_layer_indices = np.nonzero(np.isin(hits['hit_id'].to_numpy(),next_next_layer_hits))[0]\n",
    "        edge_index = torch.cat((edge_index,torch.tensor(list(product(next_layer_indices,next_next_layer_indices))).T),1).to(torch.int64)\n",
    "    \t\"\"\"\n",
    "\n",
    "    graph.edge_index = torch.tensor(edge_index).to(torch.int64)\n",
    "    print(\"Num nodes:\",graph.x.shape)\n",
    "    print(\"Num edges:\",graph.edge_index.shape)\n",
    "    print(\"Total number of layers:\",hits['layer_id'].unique().shape[0])\n",
    "\n",
    "    return graph\n",
    "\n",
    "graph = semi_fully_connected_graph(evt)\n",
    "torch.save(graph,'hit_graph_tiny_event000021000.pyg')"
   ]
  },
  {
   "cell_type": "code",
   "execution_count": 41,
   "metadata": {},
   "outputs": [
    {
     "name": "stdout",
     "output_type": "stream",
     "text": [
      "Number of edges before filter: 6582426\n",
      "Number of edges after filter: 5265941\n",
      "Delta: 1316485\n",
      "Total number of nodes: 8560\n",
      "Number of connected nodes: 8560\n",
      "Data(x=[8560], hit_id=[8560], pos=[8560, 3], edge_index=[2, 5265941])\n"
     ]
    }
   ],
   "source": [
    "import random\n",
    "graph = torch.load('hit_graph_tiny_event000021000.pyg')\n",
    "\n",
    "#Random filter to remove edges and unconnected nodes\n",
    "def random_filter(graph, p=0.2):\n",
    "    n_edges = graph.edge_index.shape[1]\n",
    "    print('Number of edges before filter:',n_edges)\n",
    "    assert p >= 0 and p <= 1, 'p must be between 0 and 1'\n",
    "    if p > 0.5:\n",
    "        keep_edges = random.sample(range(0,graph.edge_index.shape[1]),int(graph.edge_index.shape[1]*(1-p)))\n",
    "        graph.edge_index = torch.from_numpy(np.take(graph.edge_index.numpy(),keep_edges,axis=1))\n",
    "        n_filtered = n_edges - int(n_edges*(1-p))\n",
    "    else:\n",
    "        remove_edges = random.sample(range(0,graph.edge_index.shape[1]),int(graph.edge_index.shape[1]*p))\n",
    "        graph.edge_index = torch.from_numpy(np.delete(graph.edge_index.numpy(),remove_edges,axis=1))\n",
    "        n_filtered = int(n_edges*p)\n",
    "\n",
    "    print('Number of edges after filter:',graph.edge_index.shape[1])\n",
    "    print('Delta:',n_filtered)\n",
    "    graph = delete_unconnected_nodes(graph)\n",
    "    return graph\n",
    "\n",
    "def delete_unconnected_nodes(graph):\n",
    "    print('Total number of nodes:',graph.num_nodes)\n",
    "    print('Number of connected nodes:',np.unique(graph.edge_index.numpy()).shape[0])\n",
    "    graph.x = torch.tensor(np.unique(graph.edge_index.numpy()))\n",
    "    return graph\n",
    "\n",
    "graph = random_filter(graph)\n",
    "torch.save(graph,'hit_graph_tiny_event000021000_filtered.pyg')\n",
    "\n",
    "print(graph)"
   ]
  },
  {
   "cell_type": "code",
   "execution_count": 43,
   "metadata": {},
   "outputs": [
    {
     "name": "stdout",
     "output_type": "stream",
     "text": [
      "Data(x=[8560], hit_id=[8560], pos=[8560, 3], edge_index=[2, 6582426])\n",
      "Data(hit_id=[8560], pos=[8560, 3], edge_index=[2, 4964001586], num_nodes=6582426)\n"
     ]
    }
   ],
   "source": [
    "import torch\n",
    "import torch_geometric.transforms as T\n",
    "\n",
    "graph = torch.load('hit_graph_tiny_event000021000.pyg')\n",
    "print(graph)\n",
    "\n",
    "linegraph_trafo = T.LineGraph()\n",
    "print(linegraph_trafo(graph))"
   ]
  },
  {
   "cell_type": "code",
   "execution_count": 53,
   "metadata": {},
   "outputs": [
    {
     "data": {
      "image/png": "[encoded data removed]",
      "text/plain": [
       "<Figure size 640x480 with 1 Axes>"
      ]
     },
     "metadata": {},
     "output_type": "display_data"
    },
    {
     "data": {
      "image/png": "[encoded data removed]",
      "text/plain": [
       "<Figure size 640x480 with 1 Axes>"
      ]
     },
     "metadata": {},
     "output_type": "display_data"
    }
   ],
   "source": [
    "import matplotlib.pyplot as plt\n",
    "\n",
    "plt.hist(graph.x.numpy(),bins=100, histtype='step')\n",
    "plt.ylabel('Count')\n",
    "plt.xlabel('Node index')\n",
    "plt.show()\n",
    "\n",
    "plt.hist(graph.edge_index.numpy()[0,:],bins=100, label='Source node', histtype='step')\n",
    "plt.hist(graph.edge_index.numpy()[1,:],bins=100 ,label='Target node', histtype='step')\n",
    "plt.ylabel('Count')\n",
    "plt.xlabel('Node index')\n",
    "plt.legend()\n",
    "plt.show()"
   ]
  },
  {
   "cell_type": "code",
   "execution_count": 56,
   "metadata": {},
   "outputs": [
    {
     "name": "stdout",
     "output_type": "stream",
     "text": [
      "Original graph: Data(x=[10], num_nodes=10, edge_index=[2, 45])\n",
      "Data(num_nodes=45, edge_index=[2, 120])\n",
      "Linegraph iteration 0 : Data(num_nodes=45, edge_index=[2, 120])\n",
      "\n",
      "Data(num_nodes=120, edge_index=[2, 210])\n",
      "Linegraph iteration 1 : Data(num_nodes=120, edge_index=[2, 210])\n",
      "\n",
      "Data(num_nodes=210, edge_index=[2, 252])\n",
      "Linegraph iteration 2 : Data(num_nodes=210, edge_index=[2, 252])\n",
      "\n"
     ]
    }
   ],
   "source": [
    "from itertools import combinations\n",
    "import torch\n",
    "import torch_geometric.transforms as T\n",
    "\n",
    "linegraph_trafo = T.LineGraph()\n",
    "\n",
    "def build_fc_graph(n_nodes):\n",
    "    '''\n",
    "    Builds a fully connected graph with n_nodes, no self-loops and only edges in one direction\n",
    "    '''\n",
    "    graph = Data()\n",
    "    graph.x = torch.tensor(range(n_nodes))\n",
    "    graph.num_nodes = n_nodes\n",
    "    edge_index_list = combinations(range(n_nodes),r=2)\n",
    "    graph.edge_index = torch.tensor(list(edge_index_list)).T\n",
    "    return graph\n",
    "\n",
    "def iterate_linegraph(graph, n, filter=False):\n",
    "    print(\"Original graph:\",graph)\n",
    "    for i in range(n):\n",
    "        graph = linegraph_trafo(graph)\n",
    "        print(graph)\n",
    "        if graph.edge_index != None: \n",
    "            if filter:\n",
    "                graph = random_filter(graph, p=0.01)\n",
    "            print(\"Linegraph iteration\",i,\":\",graph)\n",
    "            print()\n",
    "            continue\n",
    "        \n",
    "iterate_linegraph(build_fc_graph(10),3,filter=False)"
   ]
  }
 ],
 "metadata": {
  "kernelspec": {
   "display_name": "cosmicgnn",
   "language": "python",
   "name": "python3"
  },
  "language_info": {
   "codemirror_mode": {
    "name": "ipython",
    "version": 3
   },
   "file_extension": ".py",
   "mimetype": "text/x-python",
   "name": "python",
   "nbconvert_exporter": "python",
   "pygments_lexer": "ipython3",
   "version": "3.10.13"
  }
 },
 "nbformat": 4,
 "nbformat_minor": 2
}

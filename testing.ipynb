{
 "cells": [
  {
   "cell_type": "code",
   "execution_count": null,
   "metadata": {},
   "outputs": [
    {
     "name": "stdout",
     "output_type": "stream",
     "text": [
      "Hits:    hit_id        x         y       z  volume_id  layer_id  module_id\n",
      "0       1 -86.7962 -14.73040 -1502.5          7         2          1\n",
      "1       2 -68.7035 -10.89900 -1502.5          7         2          1\n",
      "2       3 -56.1383  -9.50887 -1502.5          7         2          1\n",
      "3       4 -60.3114  -4.97231 -1502.5          7         2          1\n",
      "4       5 -89.4057  -8.81687 -1502.5          7         2          1\n",
      "Max layer_id: 8\n"
     ]
    }
   ],
   "source": [
    "import numpy as np\n",
    "import torch\n",
    "import pandas as pd\n",
    "\n",
    "evt = \"/mnt/data0/Trackml_dataset_100_events/Example_3/trackml_100_events/event000021000-\"\n",
    "\n",
    "#cells = pd.read_csv(evt+'cells.csv')\n",
    "hits = pd.read_csv(evt+'hits.csv')\n",
    "#particles = pd.read_csv(evt+'particles.csv')\n",
    "#truth = pd.read_csv(evt+'truth.csv')\n",
    "\n",
    "#print(\"Cells:\",cells.head())\n",
    "print(\"Hits:\",hits.head())\n",
    "#print(\"Particles:\",particles.head())\n",
    "#print(\"Truth:\",truth.head())\n",
    "\n",
    "#Only keep hits with volume_id = 8,13,17\n",
    "hits = hits[hits.volume_id.isin([8,13,17])]\n",
    "\n",
    "#Relabel layer_id to contain volume information\n",
    "hits['layer_id'] = hits['layer_id']/2 - 1\n",
    "print('Max layer_id:',hits['layer_id'].max())\n"
   ]
  }
 ],
 "metadata": {
  "kernelspec": {
   "display_name": "cosmicgnn",
   "language": "python",
   "name": "python3"
  },
  "language_info": {
   "codemirror_mode": {
    "name": "ipython",
    "version": 3
   },
   "file_extension": ".py",
   "mimetype": "text/x-python",
   "name": "python",
   "nbconvert_exporter": "python",
   "pygments_lexer": "ipython3",
   "version": "3.10.13"
  }
 },
 "nbformat": 4,
 "nbformat_minor": 2
}

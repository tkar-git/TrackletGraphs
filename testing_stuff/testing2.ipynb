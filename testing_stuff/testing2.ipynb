{
 "cells": [
  {
   "cell_type": "code",
   "execution_count": 29,
   "metadata": {},
   "outputs": [
    {
     "name": "stdout",
     "output_type": "stream",
     "text": [
      "Data(x=[5], num_nodes=5, edge_index=[2, 10], metagraph=[1])\n",
      "[[{0, 1}, {0, 2}, {0, 3}, {0, 4}, {1, 2}, {1, 3}, {1, 4}, {2, 3}, {2, 4}, {3, 4}]]\n",
      "10\n",
      "Data(num_nodes=10, edge_index=[2, 10], metagraph=[2])\n",
      "[[{0, 1}, {0, 2}, {0, 3}, {0, 4}, {1, 2}, {1, 3}, {1, 4}, {2, 3}, {2, 4}, {3, 4}], [{0, 1, 2}, {0, 1, 3}, {0, 1, 4}, {0, 2, 3}, {0, 2, 4}, {0, 3, 4}, {1, 2, 3}, {1, 2, 4}, {1, 3, 4}, {2, 3, 4}]]\n",
      "20\n",
      "Data(num_nodes=10, edge_index=[2, 5], metagraph=[3])\n",
      "[[{0, 1}, {0, 2}, {0, 3}, {0, 4}, {1, 2}, {1, 3}, {1, 4}, {2, 3}, {2, 4}, {3, 4}], [{0, 1, 2}, {0, 1, 3}, {0, 1, 4}, {0, 2, 3}, {0, 2, 4}, {0, 3, 4}, {1, 2, 3}, {1, 2, 4}, {1, 3, 4}, {2, 3, 4}], [{0, 1, 2, 3}, {0, 1, 2, 4}, {0, 1, 3, 4}, {0, 2, 3, 4}, {1, 2, 3, 4}]]\n",
      "25\n",
      "[{0, 1, 2, 3}]\n"
     ]
    }
   ],
   "source": [
    "import torch\n",
    "from torch_geometric.data import Data\n",
    "import torch_geometric.transforms as T\n",
    "from itertools import combinations, chain\n",
    "\n",
    "def add_metagraph(graph):\n",
    "    '''\n",
    "    Add a metagraph to the graph\n",
    "    Needs to be updated after each linegraph iteration\n",
    "    '''\n",
    "    assert hasattr(graph, 'edge_index'), 'Edge index does not exist in graph'\n",
    "    \n",
    "    graph.metagraph = [[{graph.edge_index[0,i].item(), graph.edge_index[1,i].item()} for i in range(graph.edge_index.shape[1])]]\n",
    "    return graph\n",
    "\n",
    "def gpu_update_metagraph(graph):\n",
    "    '''\n",
    "    Efficiently updates the metagraph after each linegraph iteration\n",
    "    '''\n",
    "    assert hasattr(graph, 'metagraph'), 'Metagraph does not exist in graph'\n",
    "    assert hasattr(graph, 'edge_index'), 'Edge index does not exist in graph'\n",
    "\n",
    "    edge_index = graph.edge_index.cpu().numpy()  # Move to CPU for efficient indexing\n",
    "    metagraph_np = graph.metagraph  # Assuming metagraph is already a CPU list of sets\n",
    "\n",
    "    # Efficiently compute new metagraph using list comprehension\n",
    "    new_metagraph = [metagraph_np[-1][a] | metagraph_np[-1][b] for a, b in edge_index.T]\n",
    "\n",
    "    graph.metagraph.append(new_metagraph)  # Store the updated metagraph\n",
    "    return graph\n",
    "\n",
    "linegraph_trafo = T.LineGraph()\n",
    "\n",
    "def build_fc_graph(n_nodes):\n",
    "    '''\n",
    "    Builds a fully connected graph with n_nodes, no self-loops and only edges in one direction\n",
    "    '''\n",
    "    graph = Data()\n",
    "    graph.x = torch.tensor(range(n_nodes))\n",
    "    graph.num_nodes = n_nodes\n",
    "    \n",
    "    edge_index_list = list(combinations(range(n_nodes),r=2))\n",
    "    graph.edge_index = torch.tensor(edge_index_list).T\n",
    "    return graph\n",
    "\n",
    "\n",
    "graph = build_fc_graph(5)\n",
    "graph = add_metagraph(graph)\n",
    "print(graph)\n",
    "print(graph.metagraph)\n",
    "print(len(list(chain(*graph.metagraph))))\n",
    "graph = linegraph_trafo(graph)\n",
    "graph = gpu_update_metagraph(graph)\n",
    "print(graph)\n",
    "print(graph.metagraph)\n",
    "print(len(list(chain(*graph.metagraph))))\n",
    "graph = linegraph_trafo(graph)\n",
    "graph = gpu_update_metagraph(graph)\n",
    "print(graph)\n",
    "print(graph.metagraph)\n",
    "print(len(list(chain(*graph.metagraph))))\n",
    "\n",
    "def produce_longest_track_candidate(flattened_metagraph):\n",
    "    longest_track_candidate = max(flattened_metagraph, key=len)\n",
    "    flattened_metagraph = [s for s in flattened_metagraph if s != longest_track_candidate and s.isdisjoint(longest_track_candidate)]\n",
    "\n",
    "    return longest_track_candidate, flattened_metagraph\n",
    "\n",
    "def get_all_track_candidates(metagraph):\n",
    "    flattened_metagraph = list(chain(*metagraph))\n",
    "\n",
    "    track_candidates = []\n",
    "\n",
    "    while flattened_metagraph:\n",
    "        largest_set, flattened_metagraph = produce_longest_track_candidate(flattened_metagraph)\n",
    "\n",
    "        track_candidates.append(largest_set)\n",
    "\n",
    "    return track_candidates\n",
    "\n",
    "print(get_all_track_candidates(graph.metagraph))\n"
   ]
  },
  {
   "cell_type": "code",
   "execution_count": null,
   "metadata": {},
   "outputs": [
    {
     "name": "stdout",
     "output_type": "stream",
     "text": [
      "[[{0, 1}, {0, 2}, {0, 3}, {0, 4}, {1, 2}, {1, 3}, {1, 4}, {2, 3}, {2, 4}, {3, 4}], [{0, 1, 2}, {0, 1, 3}, {0, 1, 4}, {0, 2, 3}, {0, 2, 4}, {0, 3, 4}, {1, 2, 3}, {1, 2, 4}, {1, 3, 4}, {2, 3, 4}], [{0, 1, 2, 3}, {0, 1, 2, 4}, {0, 1, 3, 4}, {0, 2, 3, 4}, {1, 2, 3, 4}]]\n"
     ]
    }
   ],
   "source": [
    "import h5py\n",
    "\n",
    "def save_data_to_hdf5(data, file_name):\n",
    "    with h5py.File(file_name, 'w') as f:\n",
    "        for i, sublist in enumerate(data):\n",
    "            # Convert each set to a tuple (or list) to store in HDF5\n",
    "            sublist_data = [tuple(s) for s in sublist]\n",
    "            f.create_dataset(f'sublist_{i}', data=sublist_data)\n",
    "\n",
    "def load_data_from_hdf5(file_name):\n",
    "    data = []\n",
    "    with h5py.File(file_name, 'r') as f:\n",
    "        for key in f.keys():\n",
    "            sublist_data = f[key][:]\n",
    "            # Convert each tuple back to a set\n",
    "            sublist = [set(s) for s in sublist_data]\n",
    "            data.append(sublist)\n",
    "    return data\n",
    "\n",
    "save_data_to_hdf5(graph.metagraph, 'test_metagraph.h5')\n",
    "loaded_data = load_data_from_hdf5('test_metagraph.h5')\n",
    "print(loaded_data)\n"
   ]
  }
 ],
 "metadata": {
  "kernelspec": {
   "display_name": "cosmicgnn",
   "language": "python",
   "name": "python3"
  },
  "language_info": {
   "codemirror_mode": {
    "name": "ipython",
    "version": 3
   },
   "file_extension": ".py",
   "mimetype": "text/x-python",
   "name": "python",
   "nbconvert_exporter": "python",
   "pygments_lexer": "ipython3",
   "version": "3.10.13"
  }
 },
 "nbformat": 4,
 "nbformat_minor": 2
}
